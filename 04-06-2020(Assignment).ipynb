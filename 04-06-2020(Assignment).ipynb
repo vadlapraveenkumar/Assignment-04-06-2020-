{
 "cells": [
  {
   "cell_type": "markdown",
   "metadata": {},
   "source": [
    "### Cse-221710309059-v praveenkumar"
   ]
  },
  {
   "cell_type": "code",
   "execution_count": 1,
   "metadata": {},
   "outputs": [
    {
     "name": "stdout",
     "output_type": "stream",
     "text": [
      "Original array:\n",
      "[ 8  9 10 11 12 13 14 15 16 17]\n",
      "Reverse array:\n",
      "[17 16 15 14 13 12 11 10  9  8]\n"
     ]
    }
   ],
   "source": [
    "#answer: 1\n",
    "\n",
    "\n",
    "\n",
    "import numpy as np\n",
    "s = np.arange(8, 18)\n",
    "print(\"Original array:\")\n",
    "print(s)\n",
    "print(\"Reverse array:\")\n",
    "s = s[::-1]\n",
    "print(s)"
   ]
  },
  {
   "cell_type": "code",
   "execution_count": 2,
   "metadata": {},
   "outputs": [
    {
     "name": "stdout",
     "output_type": "stream",
     "text": [
      "Original array:\n",
      "[[1. 1. 1. 1. 1. 1.]\n",
      " [1. 1. 1. 1. 1. 1.]\n",
      " [1. 1. 1. 1. 1. 1.]\n",
      " [1. 1. 1. 1. 1. 1.]\n",
      " [1. 1. 1. 1. 1. 1.]\n",
      " [1. 1. 1. 1. 1. 1.]]\n",
      "1 on the border and 0 inside in the array\n",
      "[[1. 1. 1. 1. 1. 1.]\n",
      " [1. 0. 0. 0. 0. 1.]\n",
      " [1. 0. 0. 0. 0. 1.]\n",
      " [1. 0. 0. 0. 0. 1.]\n",
      " [1. 0. 0. 0. 0. 1.]\n",
      " [1. 1. 1. 1. 1. 1.]]\n"
     ]
    }
   ],
   "source": [
    "#answer 2\n",
    "\n",
    "\n",
    "import numpy as np\n",
    "s = np.ones((6,6))\n",
    "print(\"Original array:\")\n",
    "print(s)\n",
    "print(\"1 on the border and 0 inside in the array\")\n",
    "s[1:-1,1:-1] = 0\n",
    "print(s)"
   ]
  },
  {
   "cell_type": "code",
   "execution_count": 3,
   "metadata": {},
   "outputs": [
    {
     "name": "stdout",
     "output_type": "stream",
     "text": [
      "Array1:  [ 8 10 18 23 31]\n",
      "Array2:  [8, 31]\n",
      "Compare each element of array1 and array2\n",
      "[ True False False False  True]\n"
     ]
    }
   ],
   "source": [
    "#answer 3\n",
    "\n",
    "\n",
    "import numpy as np\n",
    "arr1 = np.array([8, 10, 18, 23, 31])\n",
    "print(\"Array1: \",arr1)\n",
    "arr2 = [8, 31]\n",
    "print(\"Array2: \",arr2)\n",
    "print(\"Compare each element of array1 and array2\")\n",
    "print(np.in1d(arr1, arr2))"
   ]
  },
  {
   "cell_type": "code",
   "execution_count": 4,
   "metadata": {},
   "outputs": [
    {
     "name": "stdout",
     "output_type": "stream",
     "text": [
      "Array1:  [10 18 23 38 49 60]\n",
      "Array2:  [10, 23, 31, 42, 49]\n",
      "Unique values in array1 that are not in array2:\n",
      "[18 38 60]\n"
     ]
    }
   ],
   "source": [
    " #answer 4\n",
    "    \n",
    "import numpy as np\n",
    "arr3 = np.array([10, 18, 23, 38, 49, 60])\n",
    "print(\"Array1: \",arr3)\n",
    "arr4 = [10, 23, 31, 42, 49]\n",
    "print(\"Array2: \",arr4)\n",
    "print(\"Unique values in array1 that are not in array2:\")\n",
    "print(np.setdiff1d(arr3, arr4))"
   ]
  },
  {
   "cell_type": "code",
   "execution_count": 5,
   "metadata": {},
   "outputs": [
    {
     "name": "stdout",
     "output_type": "stream",
     "text": [
      "[[4 0 0 0]\n",
      " [0 5 0 0]\n",
      " [0 0 6 0]\n",
      " [0 0 0 8]]\n"
     ]
    }
   ],
   "source": [
    "#answer 5\n",
    "\n",
    "import numpy as np\n",
    "s =  np.diagflat([4, 5, 6, 8])\n",
    "print(s)"
   ]
  },
  {
   "cell_type": "code",
   "execution_count": null,
   "metadata": {},
   "outputs": [],
   "source": []
  }
 ],
 "metadata": {
  "kernelspec": {
   "display_name": "Python 3",
   "language": "python",
   "name": "python3"
  },
  "language_info": {
   "codemirror_mode": {
    "name": "ipython",
    "version": 3
   },
   "file_extension": ".py",
   "mimetype": "text/x-python",
   "name": "python",
   "nbconvert_exporter": "python",
   "pygments_lexer": "ipython3",
   "version": "3.7.4"
  }
 },
 "nbformat": 4,
 "nbformat_minor": 2
}
